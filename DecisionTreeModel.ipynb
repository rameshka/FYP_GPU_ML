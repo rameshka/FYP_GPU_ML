{
 "cells": [
  {
   "cell_type": "code",
   "execution_count": 28,
   "metadata": {},
   "outputs": [],
   "source": [
    "import pandas as pd\n",
    "import matplotlib.pyplot as plt\n",
    "import seaborn\n",
    "import numpy as np\n",
    "from sklearn.neighbors import KNeighborsClassifier\n",
    "from sklearn.model_selection import cross_val_score\n",
    "from sklearn.ensemble import RandomForestClassifier\n",
    "from sklearn.svm import SVC\n",
    "from sklearn.decomposition import PCA\n",
    "import pylab as pl\n",
    "from sklearn import preprocessing\n",
    "from sklearn import ensemble\n",
    "from sklearn.model_selection import train_test_split\n",
    "from sklearn.model_selection import StratifiedKFold\n",
    "from sklearn.metrics import accuracy_score\n",
    "from sklearn.ensemble import BaggingRegressor\n",
    "from sklearn.ensemble import RandomForestRegressor"
   ]
  },
  {
   "cell_type": "code",
   "execution_count": 2,
   "metadata": {
    "scrolled": true
   },
   "outputs": [
    {
     "data": {
      "text/html": [
       "<div>\n",
       "<style scoped>\n",
       "    .dataframe tbody tr th:only-of-type {\n",
       "        vertical-align: middle;\n",
       "    }\n",
       "\n",
       "    .dataframe tbody tr th {\n",
       "        vertical-align: top;\n",
       "    }\n",
       "\n",
       "    .dataframe thead th {\n",
       "        text-align: right;\n",
       "    }\n",
       "</style>\n",
       "<table border=\"1\" class=\"dataframe\">\n",
       "  <thead>\n",
       "    <tr style=\"text-align: right;\">\n",
       "      <th></th>\n",
       "      <th>dataSet</th>\n",
       "      <th>Input</th>\n",
       "      <th>instructionCount</th>\n",
       "      <th>ilp32</th>\n",
       "      <th>ilp256</th>\n",
       "      <th>ilp2048</th>\n",
       "      <th>ilp65536</th>\n",
       "      <th>memops</th>\n",
       "      <th>ctrlops</th>\n",
       "      <th>intops</th>\n",
       "      <th>...</th>\n",
       "      <th>lbdiv64</th>\n",
       "      <th>lbdiv128</th>\n",
       "      <th>lbdiv256</th>\n",
       "      <th>lbdiv512</th>\n",
       "      <th>lbdiv1024</th>\n",
       "      <th>probsize</th>\n",
       "      <th>Class</th>\n",
       "      <th>CPU Time</th>\n",
       "      <th>GPU Time</th>\n",
       "      <th>Ratio</th>\n",
       "    </tr>\n",
       "  </thead>\n",
       "  <tbody>\n",
       "    <tr>\n",
       "      <th>0</th>\n",
       "      <td>MVT_8192: 51-63</td>\n",
       "      <td>8192</td>\n",
       "      <td>26233453</td>\n",
       "      <td>6.498181</td>\n",
       "      <td>13.011978</td>\n",
       "      <td>13.078701</td>\n",
       "      <td>15.976306</td>\n",
       "      <td>0.820424</td>\n",
       "      <td>0.051388</td>\n",
       "      <td>0.846086</td>\n",
       "      <td>...</td>\n",
       "      <td>0.000000</td>\n",
       "      <td>0.000000</td>\n",
       "      <td>0.000000</td>\n",
       "      <td>0.000000</td>\n",
       "      <td>0.000000</td>\n",
       "      <td>74</td>\n",
       "      <td>Y</td>\n",
       "      <td>11.144549</td>\n",
       "      <td>3.324654</td>\n",
       "      <td>3.352093</td>\n",
       "    </tr>\n",
       "    <tr>\n",
       "      <th>1</th>\n",
       "      <td>MVT_16384: 51-63</td>\n",
       "      <td>16384</td>\n",
       "      <td>104658385</td>\n",
       "      <td>6.499089</td>\n",
       "      <td>13.005995</td>\n",
       "      <td>13.039291</td>\n",
       "      <td>14.338086</td>\n",
       "      <td>0.820468</td>\n",
       "      <td>0.051335</td>\n",
       "      <td>0.846120</td>\n",
       "      <td>...</td>\n",
       "      <td>0.000000</td>\n",
       "      <td>0.000000</td>\n",
       "      <td>0.000000</td>\n",
       "      <td>0.000000</td>\n",
       "      <td>0.000000</td>\n",
       "      <td>148</td>\n",
       "      <td>Y</td>\n",
       "      <td>5.509123</td>\n",
       "      <td>1.766470</td>\n",
       "      <td>3.118719</td>\n",
       "    </tr>\n",
       "    <tr>\n",
       "      <th>2</th>\n",
       "      <td>MVT_20000: 51-63</td>\n",
       "      <td>20000</td>\n",
       "      <td>156024013</td>\n",
       "      <td>6.157181</td>\n",
       "      <td>13.004910</td>\n",
       "      <td>13.032163</td>\n",
       "      <td>14.076138</td>\n",
       "      <td>0.820476</td>\n",
       "      <td>0.051325</td>\n",
       "      <td>0.846126</td>\n",
       "      <td>...</td>\n",
       "      <td>0.000000</td>\n",
       "      <td>0.000000</td>\n",
       "      <td>0.000000</td>\n",
       "      <td>0.000000</td>\n",
       "      <td>0.000000</td>\n",
       "      <td>181</td>\n",
       "      <td>Y</td>\n",
       "      <td>1.165420</td>\n",
       "      <td>0.658309</td>\n",
       "      <td>1.770324</td>\n",
       "    </tr>\n",
       "    <tr>\n",
       "      <th>3</th>\n",
       "      <td>syrk_m_2048: 59-70</td>\n",
       "      <td>2048</td>\n",
       "      <td>23223871910</td>\n",
       "      <td>6.749968</td>\n",
       "      <td>9.031183</td>\n",
       "      <td>9.332883</td>\n",
       "      <td>14.100434</td>\n",
       "      <td>0.666661</td>\n",
       "      <td>0.074120</td>\n",
       "      <td>0.666661</td>\n",
       "      <td>...</td>\n",
       "      <td>0.000570</td>\n",
       "      <td>0.001140</td>\n",
       "      <td>0.002280</td>\n",
       "      <td>0.004560</td>\n",
       "      <td>0.009120</td>\n",
       "      <td>18</td>\n",
       "      <td>Y</td>\n",
       "      <td>15.701999</td>\n",
       "      <td>14.617724</td>\n",
       "      <td>1.074175</td>\n",
       "    </tr>\n",
       "    <tr>\n",
       "      <th>4</th>\n",
       "      <td>syrk_m_1024: 59-70</td>\n",
       "      <td>1024</td>\n",
       "      <td>2996927698</td>\n",
       "      <td>6.999141</td>\n",
       "      <td>9.398286</td>\n",
       "      <td>10.028998</td>\n",
       "      <td>15.750233</td>\n",
       "      <td>0.642840</td>\n",
       "      <td>0.071516</td>\n",
       "      <td>0.678563</td>\n",
       "      <td>...</td>\n",
       "      <td>0.002209</td>\n",
       "      <td>0.004417</td>\n",
       "      <td>0.008835</td>\n",
       "      <td>0.017669</td>\n",
       "      <td>0.035338</td>\n",
       "      <td>9</td>\n",
       "      <td>Y</td>\n",
       "      <td>1.954343</td>\n",
       "      <td>1.856112</td>\n",
       "      <td>1.052923</td>\n",
       "    </tr>\n",
       "  </tbody>\n",
       "</table>\n",
       "<p>5 rows × 40 columns</p>\n",
       "</div>"
      ],
      "text/plain": [
       "              dataSet  Input  instructionCount     ilp32     ilp256  \\\n",
       "0     MVT_8192: 51-63   8192          26233453  6.498181  13.011978   \n",
       "1    MVT_16384: 51-63  16384         104658385  6.499089  13.005995   \n",
       "2    MVT_20000: 51-63  20000         156024013  6.157181  13.004910   \n",
       "3  syrk_m_2048: 59-70   2048       23223871910  6.749968   9.031183   \n",
       "4  syrk_m_1024: 59-70   1024        2996927698  6.999141   9.398286   \n",
       "\n",
       "     ilp2048   ilp65536    memops   ctrlops    intops    ...      lbdiv64  \\\n",
       "0  13.078701  15.976306  0.820424  0.051388  0.846086    ...     0.000000   \n",
       "1  13.039291  14.338086  0.820468  0.051335  0.846120    ...     0.000000   \n",
       "2  13.032163  14.076138  0.820476  0.051325  0.846126    ...     0.000000   \n",
       "3   9.332883  14.100434  0.666661  0.074120  0.666661    ...     0.000570   \n",
       "4  10.028998  15.750233  0.642840  0.071516  0.678563    ...     0.002209   \n",
       "\n",
       "   lbdiv128  lbdiv256  lbdiv512  lbdiv1024  probsize  Class   CPU Time  \\\n",
       "0  0.000000  0.000000  0.000000   0.000000        74      Y  11.144549   \n",
       "1  0.000000  0.000000  0.000000   0.000000       148      Y   5.509123   \n",
       "2  0.000000  0.000000  0.000000   0.000000       181      Y   1.165420   \n",
       "3  0.001140  0.002280  0.004560   0.009120        18      Y  15.701999   \n",
       "4  0.004417  0.008835  0.017669   0.035338         9      Y   1.954343   \n",
       "\n",
       "    GPU Time     Ratio  \n",
       "0   3.324654  3.352093  \n",
       "1   1.766470  3.118719  \n",
       "2   0.658309  1.770324  \n",
       "3  14.617724  1.074175  \n",
       "4   1.856112  1.052923  \n",
       "\n",
       "[5 rows x 40 columns]"
      ]
     },
     "execution_count": 2,
     "metadata": {},
     "output_type": "execute_result"
    }
   ],
   "source": [
    "data = pd.read_csv(\"data.csv\")\n",
    "df = pd.DataFrame(data) # Converting data to Panda DataFrame\n",
    "df.head() #gives statistics about the columns of the dataframe"
   ]
  },
  {
   "cell_type": "markdown",
   "metadata": {},
   "source": [
    "## Weight all the features by instruction count rather than a separate instruction"
   ]
  },
  {
   "cell_type": "code",
   "execution_count": 3,
   "metadata": {},
   "outputs": [],
   "source": [
    "X_ = df\n",
    "\n",
    "Weighted_X = X_[[\"ilp32\",'ilp256','ilp2048','ilp65536','memops','ctrlops','intops','flops',\n",
    " 'coldref fraction',\n",
    " 'resuseDist2 fraction',\n",
    " 'sfp',\n",
    " 'dfp',\n",
    " 'noconflict',\n",
    " 'broadCast',\n",
    " 'coalesced',\n",
    " 'shMemBw',\n",
    " 'gMemBw',\n",
    " 'blocks',\n",
    " 'pages',\n",
    " 'lipRate',\n",
    " 'mulf',\n",
    " 'divf',\n",
    " 'specialFn',\n",
    " 'lbdiv16',\n",
    " 'lbdiv32',\n",
    " 'lbdiv64',\n",
    " 'lbdiv128',\n",
    " 'lbdiv256',\n",
    " 'lbdiv512',\n",
    " 'lbdiv1024']].multiply(df[\"instructionCount\"], axis=\"index\")\n",
    "\n",
    "\n",
    "Weighted_X.shape\n",
    "\n",
    "X_train = Weighted_X\n",
    "Y_train = df['Class']"
   ]
  },
  {
   "cell_type": "markdown",
   "metadata": {},
   "source": [
    "## Splitting Data to Training set and Test set 0.1%"
   ]
  },
  {
   "cell_type": "code",
   "execution_count": 4,
   "metadata": {},
   "outputs": [],
   "source": [
    "%%script false\n",
    "Y_train = df['Class']\n",
    "\n",
    "#seperate traindata and test data here\n",
    "X_train, X_test, Y_train, Y_test = train_test_split(Weighted_X,Y_train ,test_size=0.1)\n"
   ]
  },
  {
   "cell_type": "code",
   "execution_count": 5,
   "metadata": {},
   "outputs": [
    {
     "data": {
      "text/html": [
       "<div>\n",
       "<style scoped>\n",
       "    .dataframe tbody tr th:only-of-type {\n",
       "        vertical-align: middle;\n",
       "    }\n",
       "\n",
       "    .dataframe tbody tr th {\n",
       "        vertical-align: top;\n",
       "    }\n",
       "\n",
       "    .dataframe thead th {\n",
       "        text-align: right;\n",
       "    }\n",
       "</style>\n",
       "<table border=\"1\" class=\"dataframe\">\n",
       "  <thead>\n",
       "    <tr style=\"text-align: right;\">\n",
       "      <th></th>\n",
       "      <th>ilp32</th>\n",
       "      <th>ilp256</th>\n",
       "      <th>ilp2048</th>\n",
       "      <th>ilp65536</th>\n",
       "      <th>memops</th>\n",
       "      <th>ctrlops</th>\n",
       "      <th>intops</th>\n",
       "      <th>flops</th>\n",
       "      <th>coldref fraction</th>\n",
       "      <th>resuseDist2 fraction</th>\n",
       "      <th>...</th>\n",
       "      <th>mulf</th>\n",
       "      <th>divf</th>\n",
       "      <th>specialFn</th>\n",
       "      <th>lbdiv16</th>\n",
       "      <th>lbdiv32</th>\n",
       "      <th>lbdiv64</th>\n",
       "      <th>lbdiv128</th>\n",
       "      <th>lbdiv256</th>\n",
       "      <th>lbdiv512</th>\n",
       "      <th>lbdiv1024</th>\n",
       "    </tr>\n",
       "  </thead>\n",
       "  <tbody>\n",
       "    <tr>\n",
       "      <th>0</th>\n",
       "      <td>2.021750e+10</td>\n",
       "      <td>3.060798e+10</td>\n",
       "      <td>7.587934e+10</td>\n",
       "      <td>1.179372e+12</td>\n",
       "      <td>5.984552e+09</td>\n",
       "      <td>1.135358e+09</td>\n",
       "      <td>6.498338e+09</td>\n",
       "      <td>4.900000e+06</td>\n",
       "      <td>4.158411e+05</td>\n",
       "      <td>4.850308e+09</td>\n",
       "      <td>...</td>\n",
       "      <td>0.000000e+00</td>\n",
       "      <td>0.0</td>\n",
       "      <td>0.0</td>\n",
       "      <td>5.625914e+07</td>\n",
       "      <td>6.755249e+07</td>\n",
       "      <td>8.000426e+07</td>\n",
       "      <td>8.001699e+07</td>\n",
       "      <td>8.004246e+07</td>\n",
       "      <td>8.009314e+07</td>\n",
       "      <td>8.019773e+07</td>\n",
       "    </tr>\n",
       "    <tr>\n",
       "      <th>1</th>\n",
       "      <td>8.564380e+10</td>\n",
       "      <td>5.514055e+10</td>\n",
       "      <td>1.047456e+11</td>\n",
       "      <td>2.654958e+12</td>\n",
       "      <td>7.931205e+09</td>\n",
       "      <td>3.965542e+09</td>\n",
       "      <td>8.922600e+09</td>\n",
       "      <td>0.000000e+00</td>\n",
       "      <td>5.036227e+07</td>\n",
       "      <td>8.055026e+09</td>\n",
       "      <td>...</td>\n",
       "      <td>0.000000e+00</td>\n",
       "      <td>0.0</td>\n",
       "      <td>0.0</td>\n",
       "      <td>1.533689e+06</td>\n",
       "      <td>3.041602e+06</td>\n",
       "      <td>6.066636e+07</td>\n",
       "      <td>1.213290e+08</td>\n",
       "      <td>2.435859e+08</td>\n",
       "      <td>4.871718e+08</td>\n",
       "      <td>9.704772e+08</td>\n",
       "    </tr>\n",
       "    <tr>\n",
       "      <th>2</th>\n",
       "      <td>4.196546e+10</td>\n",
       "      <td>2.701887e+10</td>\n",
       "      <td>5.132534e+10</td>\n",
       "      <td>1.300929e+12</td>\n",
       "      <td>3.886290e+09</td>\n",
       "      <td>1.943116e+09</td>\n",
       "      <td>4.372074e+09</td>\n",
       "      <td>0.000000e+00</td>\n",
       "      <td>2.467751e+07</td>\n",
       "      <td>3.946963e+09</td>\n",
       "      <td>...</td>\n",
       "      <td>0.000000e+00</td>\n",
       "      <td>0.0</td>\n",
       "      <td>0.0</td>\n",
       "      <td>7.497033e+05</td>\n",
       "      <td>1.488790e+06</td>\n",
       "      <td>2.972652e+07</td>\n",
       "      <td>5.945120e+07</td>\n",
       "      <td>1.191770e+08</td>\n",
       "      <td>2.385720e+08</td>\n",
       "      <td>4.758164e+08</td>\n",
       "    </tr>\n",
       "    <tr>\n",
       "      <th>3</th>\n",
       "      <td>3.358006e+10</td>\n",
       "      <td>2.162005e+10</td>\n",
       "      <td>4.106968e+10</td>\n",
       "      <td>1.040982e+12</td>\n",
       "      <td>3.109745e+09</td>\n",
       "      <td>1.554849e+09</td>\n",
       "      <td>3.498460e+09</td>\n",
       "      <td>0.000000e+00</td>\n",
       "      <td>1.974653e+07</td>\n",
       "      <td>3.158294e+09</td>\n",
       "      <td>...</td>\n",
       "      <td>0.000000e+00</td>\n",
       "      <td>0.0</td>\n",
       "      <td>0.0</td>\n",
       "      <td>6.004213e+05</td>\n",
       "      <td>1.191304e+06</td>\n",
       "      <td>2.378666e+07</td>\n",
       "      <td>4.757186e+07</td>\n",
       "      <td>9.536341e+07</td>\n",
       "      <td>1.909013e+08</td>\n",
       "      <td>3.807404e+08</td>\n",
       "    </tr>\n",
       "    <tr>\n",
       "      <th>4</th>\n",
       "      <td>1.313592e+08</td>\n",
       "      <td>8.457375e+07</td>\n",
       "      <td>1.606572e+08</td>\n",
       "      <td>4.072134e+09</td>\n",
       "      <td>1.216476e+07</td>\n",
       "      <td>6.082289e+06</td>\n",
       "      <td>1.368535e+07</td>\n",
       "      <td>0.000000e+00</td>\n",
       "      <td>7.724492e+04</td>\n",
       "      <td>1.235468e+07</td>\n",
       "      <td>...</td>\n",
       "      <td>0.000000e+00</td>\n",
       "      <td>0.0</td>\n",
       "      <td>0.0</td>\n",
       "      <td>2.347067e+03</td>\n",
       "      <td>4.658803e+03</td>\n",
       "      <td>9.304916e+04</td>\n",
       "      <td>1.860926e+05</td>\n",
       "      <td>3.730446e+05</td>\n",
       "      <td>7.467716e+05</td>\n",
       "      <td>1.489388e+06</td>\n",
       "    </tr>\n",
       "    <tr>\n",
       "      <th>5</th>\n",
       "      <td>1.386610e+11</td>\n",
       "      <td>2.086818e+11</td>\n",
       "      <td>2.156520e+11</td>\n",
       "      <td>3.258744e+11</td>\n",
       "      <td>1.797425e+10</td>\n",
       "      <td>1.712948e+09</td>\n",
       "      <td>1.797425e+10</td>\n",
       "      <td>4.279443e+09</td>\n",
       "      <td>2.022176e+05</td>\n",
       "      <td>1.430673e+10</td>\n",
       "      <td>...</td>\n",
       "      <td>9.243783e+09</td>\n",
       "      <td>0.0</td>\n",
       "      <td>0.0</td>\n",
       "      <td>3.309551e+06</td>\n",
       "      <td>6.619105e+06</td>\n",
       "      <td>1.323821e+07</td>\n",
       "      <td>2.647642e+07</td>\n",
       "      <td>5.295283e+07</td>\n",
       "      <td>1.059057e+08</td>\n",
       "      <td>2.118118e+08</td>\n",
       "    </tr>\n",
       "    <tr>\n",
       "      <th>6</th>\n",
       "      <td>1.733858e+10</td>\n",
       "      <td>2.618103e+10</td>\n",
       "      <td>2.799611e+10</td>\n",
       "      <td>4.415642e+10</td>\n",
       "      <td>2.247513e+09</td>\n",
       "      <td>2.143277e+08</td>\n",
       "      <td>2.247513e+09</td>\n",
       "      <td>5.350871e+08</td>\n",
       "      <td>5.057270e+04</td>\n",
       "      <td>1.789011e+09</td>\n",
       "      <td>...</td>\n",
       "      <td>1.155835e+09</td>\n",
       "      <td>0.0</td>\n",
       "      <td>0.0</td>\n",
       "      <td>1.654752e+06</td>\n",
       "      <td>3.309504e+06</td>\n",
       "      <td>6.619008e+06</td>\n",
       "      <td>1.323802e+07</td>\n",
       "      <td>2.647603e+07</td>\n",
       "      <td>5.295206e+07</td>\n",
       "      <td>1.059062e+08</td>\n",
       "    </tr>\n",
       "  </tbody>\n",
       "</table>\n",
       "<p>7 rows × 30 columns</p>\n",
       "</div>"
      ],
      "text/plain": [
       "          ilp32        ilp256       ilp2048      ilp65536        memops  \\\n",
       "0  2.021750e+10  3.060798e+10  7.587934e+10  1.179372e+12  5.984552e+09   \n",
       "1  8.564380e+10  5.514055e+10  1.047456e+11  2.654958e+12  7.931205e+09   \n",
       "2  4.196546e+10  2.701887e+10  5.132534e+10  1.300929e+12  3.886290e+09   \n",
       "3  3.358006e+10  2.162005e+10  4.106968e+10  1.040982e+12  3.109745e+09   \n",
       "4  1.313592e+08  8.457375e+07  1.606572e+08  4.072134e+09  1.216476e+07   \n",
       "5  1.386610e+11  2.086818e+11  2.156520e+11  3.258744e+11  1.797425e+10   \n",
       "6  1.733858e+10  2.618103e+10  2.799611e+10  4.415642e+10  2.247513e+09   \n",
       "\n",
       "        ctrlops        intops         flops  coldref fraction  \\\n",
       "0  1.135358e+09  6.498338e+09  4.900000e+06      4.158411e+05   \n",
       "1  3.965542e+09  8.922600e+09  0.000000e+00      5.036227e+07   \n",
       "2  1.943116e+09  4.372074e+09  0.000000e+00      2.467751e+07   \n",
       "3  1.554849e+09  3.498460e+09  0.000000e+00      1.974653e+07   \n",
       "4  6.082289e+06  1.368535e+07  0.000000e+00      7.724492e+04   \n",
       "5  1.712948e+09  1.797425e+10  4.279443e+09      2.022176e+05   \n",
       "6  2.143277e+08  2.247513e+09  5.350871e+08      5.057270e+04   \n",
       "\n",
       "   resuseDist2 fraction      ...               mulf  divf  specialFn  \\\n",
       "0          4.850308e+09      ...       0.000000e+00   0.0        0.0   \n",
       "1          8.055026e+09      ...       0.000000e+00   0.0        0.0   \n",
       "2          3.946963e+09      ...       0.000000e+00   0.0        0.0   \n",
       "3          3.158294e+09      ...       0.000000e+00   0.0        0.0   \n",
       "4          1.235468e+07      ...       0.000000e+00   0.0        0.0   \n",
       "5          1.430673e+10      ...       9.243783e+09   0.0        0.0   \n",
       "6          1.789011e+09      ...       1.155835e+09   0.0        0.0   \n",
       "\n",
       "        lbdiv16       lbdiv32       lbdiv64      lbdiv128      lbdiv256  \\\n",
       "0  5.625914e+07  6.755249e+07  8.000426e+07  8.001699e+07  8.004246e+07   \n",
       "1  1.533689e+06  3.041602e+06  6.066636e+07  1.213290e+08  2.435859e+08   \n",
       "2  7.497033e+05  1.488790e+06  2.972652e+07  5.945120e+07  1.191770e+08   \n",
       "3  6.004213e+05  1.191304e+06  2.378666e+07  4.757186e+07  9.536341e+07   \n",
       "4  2.347067e+03  4.658803e+03  9.304916e+04  1.860926e+05  3.730446e+05   \n",
       "5  3.309551e+06  6.619105e+06  1.323821e+07  2.647642e+07  5.295283e+07   \n",
       "6  1.654752e+06  3.309504e+06  6.619008e+06  1.323802e+07  2.647603e+07   \n",
       "\n",
       "       lbdiv512     lbdiv1024  \n",
       "0  8.009314e+07  8.019773e+07  \n",
       "1  4.871718e+08  9.704772e+08  \n",
       "2  2.385720e+08  4.758164e+08  \n",
       "3  1.909013e+08  3.807404e+08  \n",
       "4  7.467716e+05  1.489388e+06  \n",
       "5  1.059057e+08  2.118118e+08  \n",
       "6  5.295206e+07  1.059062e+08  \n",
       "\n",
       "[7 rows x 30 columns]"
      ]
     },
     "execution_count": 5,
     "metadata": {},
     "output_type": "execute_result"
    }
   ],
   "source": [
    "dataTest = pd.read_csv(\"test.csv\")\n",
    "dfTest = pd.DataFrame(dataTest) # Converting data to Panda DataFrame\n",
    "\n",
    "X_Test = dfTest\n",
    "\n",
    "Weighted_XTest = X_Test[[\"ilp32\",'ilp256','ilp2048','ilp65536','memops','ctrlops','intops','flops',\n",
    " 'coldref fraction',\n",
    " 'resuseDist2 fraction',\n",
    " 'sfp',\n",
    " 'dfp',\n",
    " 'noconflict',\n",
    " 'broadCast',\n",
    " 'coalesced',\n",
    " 'shMemBw',\n",
    " 'gMemBw',\n",
    " 'blocks',\n",
    " 'pages',\n",
    " 'lipRate',\n",
    " 'mulf',\n",
    " 'divf',\n",
    " 'specialFn',\n",
    " 'lbdiv16',\n",
    " 'lbdiv32',\n",
    " 'lbdiv64',\n",
    " 'lbdiv128',\n",
    " 'lbdiv256',\n",
    " 'lbdiv512',\n",
    " 'lbdiv1024']].multiply(dfTest[\"instructionCount\"], axis=\"index\")\n",
    "\n",
    "\n",
    "Weighted_XTest.shape\n",
    "\n",
    "X_test = Weighted_XTest\n",
    "Y_test = dfTest['Class']\n",
    "\n",
    "X_test.head(7)\n"
   ]
  },
  {
   "cell_type": "markdown",
   "metadata": {},
   "source": [
    "## Reading Test Data from unseen Data (Guaranteed_)"
   ]
  },
  {
   "cell_type": "code",
   "execution_count": 6,
   "metadata": {},
   "outputs": [],
   "source": [
    "%%script false\n",
    "data_test = pd.read_csv(\"test.csv\")\n",
    "df_test = pd.DataFrame(data_test) # Converting data to Panda DataFrame\n",
    "df_test.head() #gives statistics about the columns of the dataframe"
   ]
  },
  {
   "cell_type": "code",
   "execution_count": 7,
   "metadata": {},
   "outputs": [],
   "source": [
    "%%script false\n",
    "X_test = df_test\n",
    "Weighted_XTest = X_test[[\"ilp32\",'ilp256','ilp2048','ilp65536','memops','ctrlops','intops','flops',\n",
    " 'coldref fraction',\n",
    " 'resuseDist2 fraction',\n",
    " 'sfp',\n",
    " 'dfp',\n",
    " 'noconflict',\n",
    " 'broadCast',\n",
    " 'coalesced',\n",
    " 'shMemBw',\n",
    " 'gMemBw',\n",
    " 'blocks',\n",
    " 'pages',\n",
    " 'lipRate',\n",
    " 'mulf',\n",
    " 'divf',\n",
    " 'specialFn',\n",
    " 'lbdiv16',\n",
    " 'lbdiv32',\n",
    " 'lbdiv64',\n",
    " 'lbdiv128',\n",
    " 'lbdiv256',\n",
    " 'lbdiv512',\n",
    " 'lbdiv1024']].multiply(df_test[\"instructionCount\"], axis=\"index\")\n",
    "\n",
    "\n",
    "Weighted_XTest.head()"
   ]
  },
  {
   "cell_type": "markdown",
   "metadata": {},
   "source": [
    "## Class Distribution"
   ]
  },
  {
   "cell_type": "code",
   "execution_count": 8,
   "metadata": {},
   "outputs": [
    {
     "name": "stdout",
     "output_type": "stream",
     "text": [
      "69\n",
      "23\n"
     ]
    }
   ],
   "source": [
    "yes = len(data[data.Class == \"Y\"])\n",
    "No = len(data[data.Class == \"N\"])\n",
    "\n",
    "print yes\n",
    "print No"
   ]
  },
  {
   "cell_type": "code",
   "execution_count": 9,
   "metadata": {},
   "outputs": [
    {
     "name": "stdout",
     "output_type": "stream",
     "text": [
      "92\n",
      "15\n"
     ]
    }
   ],
   "source": [
    "#Y_train = df['Class']\n",
    "\n",
    "X_train = np.asarray(X_train)\n",
    "Y_train = np.asarray(Y_train)\n",
    "\n",
    "\n",
    "#Y_test = df_test['Class']\n",
    "X_test = np.asarray(X_test)\n",
    "Y_test = np.asarray(Y_test)\n",
    "\n",
    "print len(X_train)\n",
    "print len(X_test)"
   ]
  },
  {
   "cell_type": "markdown",
   "metadata": {},
   "source": [
    "## Ensembled Bagging Decison Tree Classifier"
   ]
  },
  {
   "cell_type": "code",
   "execution_count": 10,
   "metadata": {
    "scrolled": true
   },
   "outputs": [
    {
     "data": {
      "text/plain": [
       "BaggingClassifier(base_estimator=None, bootstrap=True,\n",
       "         bootstrap_features=True, max_features=1.0, max_samples=1.0,\n",
       "         n_estimators=11, n_jobs=-1, oob_score=False, random_state=None,\n",
       "         verbose=0, warm_start=False)"
      ]
     },
     "execution_count": 10,
     "metadata": {},
     "output_type": "execute_result"
    }
   ],
   "source": [
    "baggingClassifier = ensemble.BaggingClassifier(n_estimators=11,bootstrap_features=True,n_jobs=-1)\n",
    "baggingClassifier.fit(X_train,Y_train)"
   ]
  },
  {
   "cell_type": "markdown",
   "metadata": {},
   "source": [
    "## Cross validating the model"
   ]
  },
  {
   "cell_type": "code",
   "execution_count": 11,
   "metadata": {},
   "outputs": [
    {
     "name": "stdout",
     "output_type": "stream",
     "text": [
      "[0.74193548 0.61290323 0.53333333]\n"
     ]
    }
   ],
   "source": [
    "scores = cross_val_score(baggingClassifier, X_train, Y_train)\n",
    "print scores"
   ]
  },
  {
   "cell_type": "code",
   "execution_count": 12,
   "metadata": {},
   "outputs": [
    {
     "name": "stdout",
     "output_type": "stream",
     "text": [
      "['N' 'N' 'N' 'N' 'N' 'Y' 'Y' 'Y' 'N' 'Y' 'Y' 'Y' 'Y' 'Y' 'N']\n",
      "['N' 'N' 'N' 'N' 'N' 'Y' 'Y' 'Y' 'N' 'N' 'N' 'N' 'N' 'N' 'N']\n"
     ]
    }
   ],
   "source": [
    "prediction = baggingClassifier.predict(X_test)\n",
    "print prediction\n",
    "print Y_test"
   ]
  },
  {
   "cell_type": "code",
   "execution_count": 13,
   "metadata": {},
   "outputs": [
    {
     "data": {
      "text/plain": [
       "0.6666666666666666"
      ]
     },
     "execution_count": 13,
     "metadata": {},
     "output_type": "execute_result"
    }
   ],
   "source": [
    "accuracy_score(Y_test, prediction)"
   ]
  },
  {
   "cell_type": "markdown",
   "metadata": {},
   "source": [
    "## Random Forest Classifier\n"
   ]
  },
  {
   "cell_type": "code",
   "execution_count": 14,
   "metadata": {
    "scrolled": false
   },
   "outputs": [
    {
     "name": "stdout",
     "output_type": "stream",
     "text": [
      "[0.61290323 0.67741935 0.66666667]\n"
     ]
    }
   ],
   "source": [
    "#similiar to ensembling techniques\n",
    "#use majority vote from the forest\n",
    "#can handle missing values in the dataset\n",
    "#samples are used with replacement\n",
    "\n",
    "randomForest = RandomForestClassifier(n_estimators=11,n_jobs=-1,random_state=0)\n",
    "scores = cross_val_score(randomForest, X_train, Y_train)\n",
    "print scores\n"
   ]
  },
  {
   "cell_type": "code",
   "execution_count": 15,
   "metadata": {},
   "outputs": [
    {
     "name": "stdout",
     "output_type": "stream",
     "text": [
      "['N' 'N' 'N' 'N' 'Y' 'Y' 'Y' 'Y' 'N' 'Y' 'Y' 'Y' 'Y' 'Y' 'Y']\n",
      "['N' 'N' 'N' 'N' 'N' 'Y' 'Y' 'Y' 'N' 'N' 'N' 'N' 'N' 'N' 'N']\n"
     ]
    }
   ],
   "source": [
    "randomForest.fit(X_train,Y_train)\n",
    "prediction = randomForest.predict(X_test)\n",
    "\n",
    "print prediction\n",
    "print Y_test"
   ]
  },
  {
   "cell_type": "code",
   "execution_count": 16,
   "metadata": {},
   "outputs": [
    {
     "data": {
      "text/plain": [
       "0.5333333333333333"
      ]
     },
     "execution_count": 16,
     "metadata": {},
     "output_type": "execute_result"
    }
   ],
   "source": [
    "accuracy_score(Y_test, prediction)"
   ]
  },
  {
   "cell_type": "code",
   "execution_count": 17,
   "metadata": {},
   "outputs": [
    {
     "data": {
      "text/html": [
       "<div>\n",
       "<style scoped>\n",
       "    .dataframe tbody tr th:only-of-type {\n",
       "        vertical-align: middle;\n",
       "    }\n",
       "\n",
       "    .dataframe tbody tr th {\n",
       "        vertical-align: top;\n",
       "    }\n",
       "\n",
       "    .dataframe thead th {\n",
       "        text-align: right;\n",
       "    }\n",
       "</style>\n",
       "<table border=\"1\" class=\"dataframe\">\n",
       "  <thead>\n",
       "    <tr style=\"text-align: right;\">\n",
       "      <th></th>\n",
       "      <th>importance</th>\n",
       "    </tr>\n",
       "    <tr>\n",
       "      <th>feature</th>\n",
       "      <th></th>\n",
       "    </tr>\n",
       "  </thead>\n",
       "  <tbody>\n",
       "    <tr>\n",
       "      <th>coldref fraction</th>\n",
       "      <td>0.123</td>\n",
       "    </tr>\n",
       "    <tr>\n",
       "      <th>blocks</th>\n",
       "      <td>0.102</td>\n",
       "    </tr>\n",
       "    <tr>\n",
       "      <th>lbdiv256</th>\n",
       "      <td>0.074</td>\n",
       "    </tr>\n",
       "    <tr>\n",
       "      <th>noconflict</th>\n",
       "      <td>0.055</td>\n",
       "    </tr>\n",
       "    <tr>\n",
       "      <th>ilp2048</th>\n",
       "      <td>0.053</td>\n",
       "    </tr>\n",
       "    <tr>\n",
       "      <th>pages</th>\n",
       "      <td>0.049</td>\n",
       "    </tr>\n",
       "    <tr>\n",
       "      <th>flops</th>\n",
       "      <td>0.049</td>\n",
       "    </tr>\n",
       "    <tr>\n",
       "      <th>intops</th>\n",
       "      <td>0.040</td>\n",
       "    </tr>\n",
       "    <tr>\n",
       "      <th>ilp256</th>\n",
       "      <td>0.039</td>\n",
       "    </tr>\n",
       "    <tr>\n",
       "      <th>shMemBw</th>\n",
       "      <td>0.039</td>\n",
       "    </tr>\n",
       "    <tr>\n",
       "      <th>ilp65536</th>\n",
       "      <td>0.038</td>\n",
       "    </tr>\n",
       "    <tr>\n",
       "      <th>dfp</th>\n",
       "      <td>0.035</td>\n",
       "    </tr>\n",
       "    <tr>\n",
       "      <th>ctrlops</th>\n",
       "      <td>0.034</td>\n",
       "    </tr>\n",
       "    <tr>\n",
       "      <th>lbdiv16</th>\n",
       "      <td>0.031</td>\n",
       "    </tr>\n",
       "    <tr>\n",
       "      <th>lbdiv128</th>\n",
       "      <td>0.029</td>\n",
       "    </tr>\n",
       "    <tr>\n",
       "      <th>lbdiv32</th>\n",
       "      <td>0.028</td>\n",
       "    </tr>\n",
       "    <tr>\n",
       "      <th>lipRate</th>\n",
       "      <td>0.026</td>\n",
       "    </tr>\n",
       "    <tr>\n",
       "      <th>broadCast</th>\n",
       "      <td>0.023</td>\n",
       "    </tr>\n",
       "    <tr>\n",
       "      <th>gMemBw</th>\n",
       "      <td>0.023</td>\n",
       "    </tr>\n",
       "    <tr>\n",
       "      <th>sfp</th>\n",
       "      <td>0.022</td>\n",
       "    </tr>\n",
       "    <tr>\n",
       "      <th>lbdiv512</th>\n",
       "      <td>0.018</td>\n",
       "    </tr>\n",
       "    <tr>\n",
       "      <th>coalesced</th>\n",
       "      <td>0.015</td>\n",
       "    </tr>\n",
       "    <tr>\n",
       "      <th>resuseDist2 fraction</th>\n",
       "      <td>0.014</td>\n",
       "    </tr>\n",
       "    <tr>\n",
       "      <th>lbdiv64</th>\n",
       "      <td>0.014</td>\n",
       "    </tr>\n",
       "    <tr>\n",
       "      <th>ilp32</th>\n",
       "      <td>0.009</td>\n",
       "    </tr>\n",
       "    <tr>\n",
       "      <th>mulf</th>\n",
       "      <td>0.008</td>\n",
       "    </tr>\n",
       "    <tr>\n",
       "      <th>memops</th>\n",
       "      <td>0.006</td>\n",
       "    </tr>\n",
       "    <tr>\n",
       "      <th>lbdiv1024</th>\n",
       "      <td>0.003</td>\n",
       "    </tr>\n",
       "    <tr>\n",
       "      <th>specialFn</th>\n",
       "      <td>0.000</td>\n",
       "    </tr>\n",
       "    <tr>\n",
       "      <th>divf</th>\n",
       "      <td>0.000</td>\n",
       "    </tr>\n",
       "  </tbody>\n",
       "</table>\n",
       "</div>"
      ],
      "text/plain": [
       "                      importance\n",
       "feature                         \n",
       "coldref fraction           0.123\n",
       "blocks                     0.102\n",
       "lbdiv256                   0.074\n",
       "noconflict                 0.055\n",
       "ilp2048                    0.053\n",
       "pages                      0.049\n",
       "flops                      0.049\n",
       "intops                     0.040\n",
       "ilp256                     0.039\n",
       "shMemBw                    0.039\n",
       "ilp65536                   0.038\n",
       "dfp                        0.035\n",
       "ctrlops                    0.034\n",
       "lbdiv16                    0.031\n",
       "lbdiv128                   0.029\n",
       "lbdiv32                    0.028\n",
       "lipRate                    0.026\n",
       "broadCast                  0.023\n",
       "gMemBw                     0.023\n",
       "sfp                        0.022\n",
       "lbdiv512                   0.018\n",
       "coalesced                  0.015\n",
       "resuseDist2 fraction       0.014\n",
       "lbdiv64                    0.014\n",
       "ilp32                      0.009\n",
       "mulf                       0.008\n",
       "memops                     0.006\n",
       "lbdiv1024                  0.003\n",
       "specialFn                  0.000\n",
       "divf                       0.000"
      ]
     },
     "execution_count": 17,
     "metadata": {},
     "output_type": "execute_result"
    }
   ],
   "source": [
    "importances = pd.DataFrame({'feature':Weighted_X.columns,'importance':np.round(randomForest.feature_importances_,3)})\n",
    "importances = importances.sort_values('importance',ascending=False).set_index('feature')\n",
    "\n",
    "importances.head(32)"
   ]
  },
  {
   "cell_type": "markdown",
   "metadata": {},
   "source": [
    "## Executing Recursive Feature Selection to choose important features <- Check"
   ]
  },
  {
   "cell_type": "markdown",
   "metadata": {},
   "source": [
    "## Nearest Neighbor Method"
   ]
  },
  {
   "cell_type": "code",
   "execution_count": 18,
   "metadata": {},
   "outputs": [
    {
     "name": "stdout",
     "output_type": "stream",
     "text": [
      "[0.64516129 0.74193548 0.66666667]\n"
     ]
    }
   ],
   "source": [
    "neighbor = KNeighborsClassifier(n_neighbors=11,weights='distance',algorithm='auto')\n",
    "scores = cross_val_score(neighbor, X_train, Y_train)\n",
    "print scores"
   ]
  },
  {
   "cell_type": "code",
   "execution_count": 19,
   "metadata": {},
   "outputs": [
    {
     "name": "stdout",
     "output_type": "stream",
     "text": [
      "['N' 'N' 'N' 'N' 'Y' 'Y' 'Y' 'Y' 'N' 'Y' 'Y' 'Y' 'Y' 'Y' 'N']\n",
      "['N' 'N' 'N' 'N' 'N' 'Y' 'Y' 'Y' 'N' 'N' 'N' 'N' 'N' 'N' 'N']\n"
     ]
    }
   ],
   "source": [
    "neighbor.fit(X_train,Y_train)\n",
    "prediction = neighbor.predict(X_test)\n",
    "\n",
    "print prediction\n",
    "print Y_test"
   ]
  },
  {
   "cell_type": "code",
   "execution_count": 20,
   "metadata": {},
   "outputs": [
    {
     "data": {
      "text/plain": [
       "0.6"
      ]
     },
     "execution_count": 20,
     "metadata": {},
     "output_type": "execute_result"
    }
   ],
   "source": [
    "accuracy_score(Y_test, prediction)"
   ]
  },
  {
   "cell_type": "markdown",
   "metadata": {},
   "source": [
    "## SVM Classifier "
   ]
  },
  {
   "cell_type": "code",
   "execution_count": 21,
   "metadata": {},
   "outputs": [
    {
     "name": "stdout",
     "output_type": "stream",
     "text": [
      "[0.74193548 0.74193548 0.76666667]\n"
     ]
    }
   ],
   "source": [
    "svmClassifier = SVC(kernel='rbf')\n",
    "scores = cross_val_score(svmClassifier, X_train, Y_train)\n",
    "print scores\n"
   ]
  },
  {
   "cell_type": "code",
   "execution_count": 22,
   "metadata": {},
   "outputs": [
    {
     "name": "stdout",
     "output_type": "stream",
     "text": [
      "['N' 'Y' 'Y' 'Y' 'Y' 'Y' 'Y' 'Y' 'Y' 'Y' 'Y' 'Y' 'Y' 'Y' 'Y']\n",
      "['N' 'N' 'N' 'N' 'N' 'Y' 'Y' 'Y' 'N' 'N' 'N' 'N' 'N' 'N' 'N']\n"
     ]
    }
   ],
   "source": [
    "svmClassifier.fit(X_train,Y_train)\n",
    "prediction = svmClassifier.predict(X_test)\n",
    "\n",
    "print prediction\n",
    "print Y_test"
   ]
  },
  {
   "cell_type": "code",
   "execution_count": 23,
   "metadata": {},
   "outputs": [
    {
     "data": {
      "text/plain": [
       "0.26666666666666666"
      ]
     },
     "execution_count": 23,
     "metadata": {},
     "output_type": "execute_result"
    }
   ],
   "source": [
    "accuracy_score(Y_test, prediction)"
   ]
  },
  {
   "cell_type": "markdown",
   "metadata": {},
   "source": [
    "## Ratio Method Classifier"
   ]
  },
  {
   "cell_type": "code",
   "execution_count": 25,
   "metadata": {},
   "outputs": [],
   "source": [
    "Y_train = df['Ratio']\n",
    "\n",
    "Y_train = np.asarray(Y_train)"
   ]
  },
  {
   "cell_type": "markdown",
   "metadata": {},
   "source": [
    "## Bagging Regressor "
   ]
  },
  {
   "cell_type": "code",
   "execution_count": 31,
   "metadata": {},
   "outputs": [
    {
     "name": "stdout",
     "output_type": "stream",
     "text": [
      "['Y', 'Y', 'Y', 'Y', 'Y', 'Y', 'Y', 'Y', 'Y', 'Y', 'Y', 'Y', 'Y', 'Y', 'Y']\n",
      "['N' 'N' 'N' 'N' 'N' 'Y' 'Y' 'Y' 'N' 'N' 'N' 'N' 'N' 'N' 'N']\n"
     ]
    }
   ],
   "source": [
    "baggingRegressor = BaggingRegressor(n_estimators=10)\n",
    "baggingRegressor.fit(X_train,Y_train)\n",
    "\n",
    "predictions = baggingRegressor.predict(X_test)\n",
    "\n",
    "results = []\n",
    "\n",
    "for y in predictions:\n",
    "    if y >1:\n",
    "        results.append('Y')\n",
    "    else:\n",
    "        results.append('N')\n",
    "print results\n",
    "print Y_test"
   ]
  },
  {
   "cell_type": "markdown",
   "metadata": {},
   "source": [
    "## RandomForest Regressor"
   ]
  },
  {
   "cell_type": "code",
   "execution_count": 34,
   "metadata": {},
   "outputs": [
    {
     "name": "stdout",
     "output_type": "stream",
     "text": [
      "['N', 'Y', 'Y', 'Y', 'Y', 'Y', 'Y', 'Y', 'Y', 'Y', 'Y', 'Y', 'Y', 'Y', 'Y']\n",
      "['N' 'N' 'N' 'N' 'N' 'Y' 'Y' 'Y' 'N' 'N' 'N' 'N' 'N' 'N' 'N']\n",
      "[ 0.99178778 25.63944833 25.63944833 26.15216396  1.76957969  8.31240716\n",
      "  6.78229883  2.27687946  1.18634603  2.16810826  2.08214879  2.08214879\n",
      "  2.01470761  1.54059591  2.34985814]\n"
     ]
    }
   ],
   "source": [
    "randomforestRegressor = RandomForestRegressor(n_estimators=5,n_jobs=-1)\n",
    "randomforestRegressor.fit(X_train,Y_train)\n",
    "\n",
    "predictions = randomforestRegressor.predict(X_test)\n",
    "results = []\n",
    "\n",
    "for y in predictions:\n",
    "    if y >1:\n",
    "        results.append('Y')\n",
    "    else:\n",
    "        results.append('N')\n",
    "print results\n",
    "print Y_test\n",
    "print predictions"
   ]
  }
 ],
 "metadata": {
  "kernelspec": {
   "display_name": "Python 2",
   "language": "python",
   "name": "python2"
  },
  "language_info": {
   "codemirror_mode": {
    "name": "ipython",
    "version": 2
   },
   "file_extension": ".py",
   "mimetype": "text/x-python",
   "name": "python",
   "nbconvert_exporter": "python",
   "pygments_lexer": "ipython2",
   "version": "2.7.12"
  }
 },
 "nbformat": 4,
 "nbformat_minor": 2
}
