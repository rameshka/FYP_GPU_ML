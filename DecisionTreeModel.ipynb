{
 "cells": [
  {
   "cell_type": "code",
   "execution_count": 1,
   "metadata": {},
   "outputs": [],
   "source": [
    "import pandas as pd\n",
    "import matplotlib.pyplot as plt\n",
    "import seaborn\n",
    "import numpy as np\n",
    "from sklearn.neighbors import KNeighborsClassifier\n",
    "from sklearn.model_selection import cross_val_score\n",
    "from sklearn.ensemble import RandomForestClassifier\n",
    "from sklearn.svm import SVC\n",
    "from sklearn.decomposition import PCA\n",
    "import pylab as pl\n",
    "from sklearn import preprocessing\n",
    "from sklearn import ensemble\n",
    "from sklearn.model_selection import train_test_split\n",
    "from sklearn.model_selection import StratifiedKFold\n",
    "from sklearn.metrics import accuracy_score"
   ]
  },
  {
   "cell_type": "code",
   "execution_count": 2,
   "metadata": {
    "scrolled": true
   },
   "outputs": [
    {
     "data": {
      "text/html": [
       "<div>\n",
       "<style scoped>\n",
       "    .dataframe tbody tr th:only-of-type {\n",
       "        vertical-align: middle;\n",
       "    }\n",
       "\n",
       "    .dataframe tbody tr th {\n",
       "        vertical-align: top;\n",
       "    }\n",
       "\n",
       "    .dataframe thead th {\n",
       "        text-align: right;\n",
       "    }\n",
       "</style>\n",
       "<table border=\"1\" class=\"dataframe\">\n",
       "  <thead>\n",
       "    <tr style=\"text-align: right;\">\n",
       "      <th></th>\n",
       "      <th>dataSet</th>\n",
       "      <th>Input</th>\n",
       "      <th>instructionCount</th>\n",
       "      <th>ilp32</th>\n",
       "      <th>ilp256</th>\n",
       "      <th>ilp2048</th>\n",
       "      <th>ilp65536</th>\n",
       "      <th>memops</th>\n",
       "      <th>ctrlops</th>\n",
       "      <th>intops</th>\n",
       "      <th>...</th>\n",
       "      <th>lbdiv32</th>\n",
       "      <th>lbdiv64</th>\n",
       "      <th>lbdiv128</th>\n",
       "      <th>lbdiv256</th>\n",
       "      <th>lbdiv512</th>\n",
       "      <th>lbdiv1024</th>\n",
       "      <th>probsize</th>\n",
       "      <th>Class</th>\n",
       "      <th>CPU Time</th>\n",
       "      <th>GPU Time</th>\n",
       "    </tr>\n",
       "  </thead>\n",
       "  <tbody>\n",
       "    <tr>\n",
       "      <th>0</th>\n",
       "      <td>MVT_8192: 51-63</td>\n",
       "      <td>8192</td>\n",
       "      <td>26233453</td>\n",
       "      <td>6.498181</td>\n",
       "      <td>13.011978</td>\n",
       "      <td>13.078701</td>\n",
       "      <td>15.976306</td>\n",
       "      <td>0.820424</td>\n",
       "      <td>0.051388</td>\n",
       "      <td>0.846086</td>\n",
       "      <td>...</td>\n",
       "      <td>0.000000</td>\n",
       "      <td>0.000000</td>\n",
       "      <td>0.000000</td>\n",
       "      <td>0.000000</td>\n",
       "      <td>0.000000</td>\n",
       "      <td>0.000000</td>\n",
       "      <td>74</td>\n",
       "      <td>Y</td>\n",
       "      <td>11.144549</td>\n",
       "      <td>3.324654</td>\n",
       "    </tr>\n",
       "    <tr>\n",
       "      <th>1</th>\n",
       "      <td>MVT_16384: 51-63</td>\n",
       "      <td>16384</td>\n",
       "      <td>104658385</td>\n",
       "      <td>6.499089</td>\n",
       "      <td>13.005995</td>\n",
       "      <td>13.039291</td>\n",
       "      <td>14.338086</td>\n",
       "      <td>0.820468</td>\n",
       "      <td>0.051335</td>\n",
       "      <td>0.846120</td>\n",
       "      <td>...</td>\n",
       "      <td>0.000000</td>\n",
       "      <td>0.000000</td>\n",
       "      <td>0.000000</td>\n",
       "      <td>0.000000</td>\n",
       "      <td>0.000000</td>\n",
       "      <td>0.000000</td>\n",
       "      <td>148</td>\n",
       "      <td>Y</td>\n",
       "      <td>5.509123</td>\n",
       "      <td>1.766470</td>\n",
       "    </tr>\n",
       "    <tr>\n",
       "      <th>2</th>\n",
       "      <td>MVT_20000: 51-63</td>\n",
       "      <td>20000</td>\n",
       "      <td>156024013</td>\n",
       "      <td>6.157181</td>\n",
       "      <td>13.004910</td>\n",
       "      <td>13.032163</td>\n",
       "      <td>14.076138</td>\n",
       "      <td>0.820476</td>\n",
       "      <td>0.051325</td>\n",
       "      <td>0.846126</td>\n",
       "      <td>...</td>\n",
       "      <td>0.000000</td>\n",
       "      <td>0.000000</td>\n",
       "      <td>0.000000</td>\n",
       "      <td>0.000000</td>\n",
       "      <td>0.000000</td>\n",
       "      <td>0.000000</td>\n",
       "      <td>181</td>\n",
       "      <td>Y</td>\n",
       "      <td>1.165420</td>\n",
       "      <td>0.658309</td>\n",
       "    </tr>\n",
       "    <tr>\n",
       "      <th>3</th>\n",
       "      <td>syrk_m_2048: 59-70</td>\n",
       "      <td>2048</td>\n",
       "      <td>23223871910</td>\n",
       "      <td>6.749968</td>\n",
       "      <td>9.031183</td>\n",
       "      <td>9.332883</td>\n",
       "      <td>14.100434</td>\n",
       "      <td>0.666661</td>\n",
       "      <td>0.074120</td>\n",
       "      <td>0.666661</td>\n",
       "      <td>...</td>\n",
       "      <td>0.000285</td>\n",
       "      <td>0.000570</td>\n",
       "      <td>0.001140</td>\n",
       "      <td>0.002280</td>\n",
       "      <td>0.004560</td>\n",
       "      <td>0.009120</td>\n",
       "      <td>18</td>\n",
       "      <td>Y</td>\n",
       "      <td>15.701999</td>\n",
       "      <td>14.617724</td>\n",
       "    </tr>\n",
       "    <tr>\n",
       "      <th>4</th>\n",
       "      <td>syrk_m_1024: 59-70</td>\n",
       "      <td>1024</td>\n",
       "      <td>2996927698</td>\n",
       "      <td>6.999141</td>\n",
       "      <td>9.398286</td>\n",
       "      <td>10.028998</td>\n",
       "      <td>15.750233</td>\n",
       "      <td>0.642840</td>\n",
       "      <td>0.071516</td>\n",
       "      <td>0.678563</td>\n",
       "      <td>...</td>\n",
       "      <td>0.001104</td>\n",
       "      <td>0.002209</td>\n",
       "      <td>0.004417</td>\n",
       "      <td>0.008835</td>\n",
       "      <td>0.017669</td>\n",
       "      <td>0.035338</td>\n",
       "      <td>9</td>\n",
       "      <td>Y</td>\n",
       "      <td>1.954343</td>\n",
       "      <td>1.856112</td>\n",
       "    </tr>\n",
       "  </tbody>\n",
       "</table>\n",
       "<p>5 rows × 39 columns</p>\n",
       "</div>"
      ],
      "text/plain": [
       "              dataSet  Input  instructionCount     ilp32     ilp256  \\\n",
       "0     MVT_8192: 51-63   8192          26233453  6.498181  13.011978   \n",
       "1    MVT_16384: 51-63  16384         104658385  6.499089  13.005995   \n",
       "2    MVT_20000: 51-63  20000         156024013  6.157181  13.004910   \n",
       "3  syrk_m_2048: 59-70   2048       23223871910  6.749968   9.031183   \n",
       "4  syrk_m_1024: 59-70   1024        2996927698  6.999141   9.398286   \n",
       "\n",
       "     ilp2048   ilp65536    memops   ctrlops    intops    ...       lbdiv32  \\\n",
       "0  13.078701  15.976306  0.820424  0.051388  0.846086    ...      0.000000   \n",
       "1  13.039291  14.338086  0.820468  0.051335  0.846120    ...      0.000000   \n",
       "2  13.032163  14.076138  0.820476  0.051325  0.846126    ...      0.000000   \n",
       "3   9.332883  14.100434  0.666661  0.074120  0.666661    ...      0.000285   \n",
       "4  10.028998  15.750233  0.642840  0.071516  0.678563    ...      0.001104   \n",
       "\n",
       "    lbdiv64  lbdiv128  lbdiv256  lbdiv512  lbdiv1024  probsize  Class  \\\n",
       "0  0.000000  0.000000  0.000000  0.000000   0.000000        74      Y   \n",
       "1  0.000000  0.000000  0.000000  0.000000   0.000000       148      Y   \n",
       "2  0.000000  0.000000  0.000000  0.000000   0.000000       181      Y   \n",
       "3  0.000570  0.001140  0.002280  0.004560   0.009120        18      Y   \n",
       "4  0.002209  0.004417  0.008835  0.017669   0.035338         9      Y   \n",
       "\n",
       "    CPU Time   GPU Time  \n",
       "0  11.144549   3.324654  \n",
       "1   5.509123   1.766470  \n",
       "2   1.165420   0.658309  \n",
       "3  15.701999  14.617724  \n",
       "4   1.954343   1.856112  \n",
       "\n",
       "[5 rows x 39 columns]"
      ]
     },
     "execution_count": 2,
     "metadata": {},
     "output_type": "execute_result"
    }
   ],
   "source": [
    "data = pd.read_csv(\"data.csv\")\n",
    "df = pd.DataFrame(data) # Converting data to Panda DataFrame\n",
    "df.head() #gives statistics about the columns of the dataframe"
   ]
  },
  {
   "cell_type": "markdown",
   "metadata": {},
   "source": [
    "## Weight all the features by instruction count rather than a separate instruction"
   ]
  },
  {
   "cell_type": "code",
   "execution_count": 3,
   "metadata": {},
   "outputs": [
    {
     "data": {
      "text/plain": [
       "(92, 30)"
      ]
     },
     "execution_count": 3,
     "metadata": {},
     "output_type": "execute_result"
    }
   ],
   "source": [
    "X_ = df\n",
    "\n",
    "Weighted_X = X_[[\"ilp32\",'ilp256','ilp2048','ilp65536','memops','ctrlops','intops','flops',\n",
    " 'coldref fraction',\n",
    " 'resuseDist2 fraction',\n",
    " 'sfp',\n",
    " 'dfp',\n",
    " 'noconflict',\n",
    " 'broadCast',\n",
    " 'coalesced',\n",
    " 'shMemBw',\n",
    " 'gMemBw',\n",
    " 'blocks',\n",
    " 'pages',\n",
    " 'lipRate',\n",
    " 'mulf',\n",
    " 'divf',\n",
    " 'specialFn',\n",
    " 'lbdiv16',\n",
    " 'lbdiv32',\n",
    " 'lbdiv64',\n",
    " 'lbdiv128',\n",
    " 'lbdiv256',\n",
    " 'lbdiv512',\n",
    " 'lbdiv1024']].multiply(df[\"instructionCount\"], axis=\"index\")\n",
    "\n",
    "\n",
    "Weighted_X.shape"
   ]
  },
  {
   "cell_type": "markdown",
   "metadata": {},
   "source": [
    "## Splitting Data to Training set and Test set 0.1%"
   ]
  },
  {
   "cell_type": "code",
   "execution_count": 4,
   "metadata": {},
   "outputs": [],
   "source": [
    "Y_train = df['Class']\n",
    "\n",
    "#seperate traindata and test data here\n",
    "X_train, X_test, Y_train, Y_test = train_test_split(Weighted_X,Y_train ,test_size=0.1)\n"
   ]
  },
  {
   "cell_type": "markdown",
   "metadata": {},
   "source": [
    "## Reading Test Data from unseen Data (Guaranteed_)"
   ]
  },
  {
   "cell_type": "code",
   "execution_count": 5,
   "metadata": {},
   "outputs": [],
   "source": [
    "%%script false\n",
    "data_test = pd.read_csv(\"test.csv\")\n",
    "df_test = pd.DataFrame(data_test) # Converting data to Panda DataFrame\n",
    "df_test.head() #gives statistics about the columns of the dataframe"
   ]
  },
  {
   "cell_type": "code",
   "execution_count": 6,
   "metadata": {},
   "outputs": [],
   "source": [
    "%%script false\n",
    "X_test = df_test\n",
    "Weighted_XTest = X_test[[\"ilp32\",'ilp256','ilp2048','ilp65536','memops','ctrlops','intops','flops',\n",
    " 'coldref fraction',\n",
    " 'resuseDist2 fraction',\n",
    " 'sfp',\n",
    " 'dfp',\n",
    " 'noconflict',\n",
    " 'broadCast',\n",
    " 'coalesced',\n",
    " 'shMemBw',\n",
    " 'gMemBw',\n",
    " 'blocks',\n",
    " 'pages',\n",
    " 'lipRate',\n",
    " 'mulf',\n",
    " 'divf',\n",
    " 'specialFn',\n",
    " 'lbdiv16',\n",
    " 'lbdiv32',\n",
    " 'lbdiv64',\n",
    " 'lbdiv128',\n",
    " 'lbdiv256',\n",
    " 'lbdiv512',\n",
    " 'lbdiv1024']].multiply(df_test[\"instructionCount\"], axis=\"index\")\n",
    "\n",
    "\n",
    "Weighted_XTest.head()"
   ]
  },
  {
   "cell_type": "markdown",
   "metadata": {},
   "source": [
    "## Class Distribution"
   ]
  },
  {
   "cell_type": "code",
   "execution_count": 7,
   "metadata": {},
   "outputs": [
    {
     "name": "stdout",
     "output_type": "stream",
     "text": [
      "69\n",
      "23\n"
     ]
    }
   ],
   "source": [
    "yes = len(data[data.Class == \"Y\"])\n",
    "No = len(data[data.Class == \"N\"])\n",
    "\n",
    "print yes\n",
    "print No"
   ]
  },
  {
   "cell_type": "code",
   "execution_count": 8,
   "metadata": {},
   "outputs": [
    {
     "name": "stdout",
     "output_type": "stream",
     "text": [
      "82\n",
      "10\n"
     ]
    }
   ],
   "source": [
    "#Y_train = df['Class']\n",
    "\n",
    "X_train = np.asarray(X_train)\n",
    "Y_train = np.asarray(Y_train)\n",
    "\n",
    "\n",
    "#Y_test = df_test['Class']\n",
    "X_test = np.asarray(X_test)\n",
    "Y_test = np.asarray(Y_test)\n",
    "\n",
    "print len(X_train)\n",
    "print len(X_test)"
   ]
  },
  {
   "cell_type": "markdown",
   "metadata": {},
   "source": [
    "## Ensembled Bagging Decison Tree Classifier"
   ]
  },
  {
   "cell_type": "code",
   "execution_count": 9,
   "metadata": {
    "scrolled": true
   },
   "outputs": [
    {
     "data": {
      "text/plain": [
       "BaggingClassifier(base_estimator=None, bootstrap=True,\n",
       "         bootstrap_features=True, max_features=1.0, max_samples=1.0,\n",
       "         n_estimators=11, n_jobs=-1, oob_score=False, random_state=None,\n",
       "         verbose=0, warm_start=False)"
      ]
     },
     "execution_count": 9,
     "metadata": {},
     "output_type": "execute_result"
    }
   ],
   "source": [
    "baggingClassifier = ensemble.BaggingClassifier(n_estimators=11,bootstrap_features=True,n_jobs=-1)\n",
    "baggingClassifier.fit(X_train,Y_train)"
   ]
  },
  {
   "cell_type": "markdown",
   "metadata": {},
   "source": [
    "## Cross validating the model"
   ]
  },
  {
   "cell_type": "code",
   "execution_count": 10,
   "metadata": {},
   "outputs": [
    {
     "name": "stdout",
     "output_type": "stream",
     "text": [
      "[0.75       0.85185185 0.77777778]\n"
     ]
    }
   ],
   "source": [
    "scores = cross_val_score(baggingClassifier, X_train, Y_train)\n",
    "print scores"
   ]
  },
  {
   "cell_type": "code",
   "execution_count": 11,
   "metadata": {},
   "outputs": [
    {
     "name": "stdout",
     "output_type": "stream",
     "text": [
      "['Y' 'N' 'N' 'Y' 'Y' 'Y' 'Y' 'Y' 'N' 'N']\n",
      "['Y' 'Y' 'N' 'Y' 'Y' 'Y' 'Y' 'N' 'N' 'N']\n"
     ]
    }
   ],
   "source": [
    "prediction = baggingClassifier.predict(X_test)\n",
    "print prediction\n",
    "print Y_test"
   ]
  },
  {
   "cell_type": "code",
   "execution_count": 12,
   "metadata": {},
   "outputs": [
    {
     "data": {
      "text/plain": [
       "0.8"
      ]
     },
     "execution_count": 12,
     "metadata": {},
     "output_type": "execute_result"
    }
   ],
   "source": [
    "accuracy_score(Y_test, prediction)"
   ]
  },
  {
   "cell_type": "markdown",
   "metadata": {},
   "source": [
    "## Random Forest Classifier\n"
   ]
  },
  {
   "cell_type": "code",
   "execution_count": 13,
   "metadata": {
    "scrolled": false
   },
   "outputs": [
    {
     "name": "stdout",
     "output_type": "stream",
     "text": [
      "[0.82142857 0.81481481 0.81481481]\n"
     ]
    }
   ],
   "source": [
    "#similiar to ensembling techniques\n",
    "#use majority vote from the forest\n",
    "#can handle missing values in the dataset\n",
    "#samples are used with replacement\n",
    "\n",
    "randomForest = RandomForestClassifier(n_estimators=11,n_jobs=-1,random_state=0)\n",
    "scores = cross_val_score(randomForest, X_train, Y_train)\n",
    "print scores\n",
    "\n",
    "#for n in range(5):\n",
    "#    strat_k_fold = StratifiedKFold(n_splits=5, shuffle=True)\n",
    "#    scores = cross_val_score(randomForest, X_train, Y_train, cv=strat_k_fold)\n",
    "#    print scores"
   ]
  },
  {
   "cell_type": "code",
   "execution_count": 14,
   "metadata": {},
   "outputs": [
    {
     "name": "stdout",
     "output_type": "stream",
     "text": [
      "['Y' 'Y' 'N' 'Y' 'Y' 'Y' 'Y' 'Y' 'Y' 'Y']\n",
      "['Y' 'Y' 'N' 'Y' 'Y' 'Y' 'Y' 'N' 'N' 'N']\n"
     ]
    }
   ],
   "source": [
    "randomForest.fit(X_train,Y_train)\n",
    "prediction = randomForest.predict(X_test)\n",
    "\n",
    "print prediction\n",
    "print Y_test"
   ]
  },
  {
   "cell_type": "code",
   "execution_count": 15,
   "metadata": {},
   "outputs": [
    {
     "data": {
      "text/plain": [
       "0.7"
      ]
     },
     "execution_count": 15,
     "metadata": {},
     "output_type": "execute_result"
    }
   ],
   "source": [
    "accuracy_score(Y_test, prediction)"
   ]
  },
  {
   "cell_type": "code",
   "execution_count": 16,
   "metadata": {},
   "outputs": [
    {
     "data": {
      "text/html": [
       "<div>\n",
       "<style scoped>\n",
       "    .dataframe tbody tr th:only-of-type {\n",
       "        vertical-align: middle;\n",
       "    }\n",
       "\n",
       "    .dataframe tbody tr th {\n",
       "        vertical-align: top;\n",
       "    }\n",
       "\n",
       "    .dataframe thead th {\n",
       "        text-align: right;\n",
       "    }\n",
       "</style>\n",
       "<table border=\"1\" class=\"dataframe\">\n",
       "  <thead>\n",
       "    <tr style=\"text-align: right;\">\n",
       "      <th></th>\n",
       "      <th>importance</th>\n",
       "    </tr>\n",
       "    <tr>\n",
       "      <th>feature</th>\n",
       "      <th></th>\n",
       "    </tr>\n",
       "  </thead>\n",
       "  <tbody>\n",
       "    <tr>\n",
       "      <th>coldref fraction</th>\n",
       "      <td>0.122</td>\n",
       "    </tr>\n",
       "    <tr>\n",
       "      <th>pages</th>\n",
       "      <td>0.091</td>\n",
       "    </tr>\n",
       "    <tr>\n",
       "      <th>lbdiv256</th>\n",
       "      <td>0.088</td>\n",
       "    </tr>\n",
       "    <tr>\n",
       "      <th>ilp2048</th>\n",
       "      <td>0.065</td>\n",
       "    </tr>\n",
       "    <tr>\n",
       "      <th>blocks</th>\n",
       "      <td>0.062</td>\n",
       "    </tr>\n",
       "    <tr>\n",
       "      <th>memops</th>\n",
       "      <td>0.059</td>\n",
       "    </tr>\n",
       "    <tr>\n",
       "      <th>shMemBw</th>\n",
       "      <td>0.053</td>\n",
       "    </tr>\n",
       "    <tr>\n",
       "      <th>lipRate</th>\n",
       "      <td>0.051</td>\n",
       "    </tr>\n",
       "    <tr>\n",
       "      <th>lbdiv128</th>\n",
       "      <td>0.043</td>\n",
       "    </tr>\n",
       "    <tr>\n",
       "      <th>noconflict</th>\n",
       "      <td>0.037</td>\n",
       "    </tr>\n",
       "    <tr>\n",
       "      <th>ctrlops</th>\n",
       "      <td>0.035</td>\n",
       "    </tr>\n",
       "    <tr>\n",
       "      <th>lbdiv512</th>\n",
       "      <td>0.032</td>\n",
       "    </tr>\n",
       "    <tr>\n",
       "      <th>ilp65536</th>\n",
       "      <td>0.031</td>\n",
       "    </tr>\n",
       "    <tr>\n",
       "      <th>lbdiv1024</th>\n",
       "      <td>0.029</td>\n",
       "    </tr>\n",
       "    <tr>\n",
       "      <th>intops</th>\n",
       "      <td>0.027</td>\n",
       "    </tr>\n",
       "    <tr>\n",
       "      <th>mulf</th>\n",
       "      <td>0.025</td>\n",
       "    </tr>\n",
       "    <tr>\n",
       "      <th>resuseDist2 fraction</th>\n",
       "      <td>0.021</td>\n",
       "    </tr>\n",
       "    <tr>\n",
       "      <th>gMemBw</th>\n",
       "      <td>0.020</td>\n",
       "    </tr>\n",
       "    <tr>\n",
       "      <th>flops</th>\n",
       "      <td>0.019</td>\n",
       "    </tr>\n",
       "    <tr>\n",
       "      <th>dfp</th>\n",
       "      <td>0.016</td>\n",
       "    </tr>\n",
       "    <tr>\n",
       "      <th>lbdiv32</th>\n",
       "      <td>0.016</td>\n",
       "    </tr>\n",
       "    <tr>\n",
       "      <th>lbdiv64</th>\n",
       "      <td>0.014</td>\n",
       "    </tr>\n",
       "    <tr>\n",
       "      <th>coalesced</th>\n",
       "      <td>0.009</td>\n",
       "    </tr>\n",
       "    <tr>\n",
       "      <th>broadCast</th>\n",
       "      <td>0.009</td>\n",
       "    </tr>\n",
       "    <tr>\n",
       "      <th>specialFn</th>\n",
       "      <td>0.007</td>\n",
       "    </tr>\n",
       "    <tr>\n",
       "      <th>ilp32</th>\n",
       "      <td>0.007</td>\n",
       "    </tr>\n",
       "    <tr>\n",
       "      <th>sfp</th>\n",
       "      <td>0.005</td>\n",
       "    </tr>\n",
       "    <tr>\n",
       "      <th>lbdiv16</th>\n",
       "      <td>0.005</td>\n",
       "    </tr>\n",
       "    <tr>\n",
       "      <th>ilp256</th>\n",
       "      <td>0.000</td>\n",
       "    </tr>\n",
       "    <tr>\n",
       "      <th>divf</th>\n",
       "      <td>0.000</td>\n",
       "    </tr>\n",
       "  </tbody>\n",
       "</table>\n",
       "</div>"
      ],
      "text/plain": [
       "                      importance\n",
       "feature                         \n",
       "coldref fraction           0.122\n",
       "pages                      0.091\n",
       "lbdiv256                   0.088\n",
       "ilp2048                    0.065\n",
       "blocks                     0.062\n",
       "memops                     0.059\n",
       "shMemBw                    0.053\n",
       "lipRate                    0.051\n",
       "lbdiv128                   0.043\n",
       "noconflict                 0.037\n",
       "ctrlops                    0.035\n",
       "lbdiv512                   0.032\n",
       "ilp65536                   0.031\n",
       "lbdiv1024                  0.029\n",
       "intops                     0.027\n",
       "mulf                       0.025\n",
       "resuseDist2 fraction       0.021\n",
       "gMemBw                     0.020\n",
       "flops                      0.019\n",
       "dfp                        0.016\n",
       "lbdiv32                    0.016\n",
       "lbdiv64                    0.014\n",
       "coalesced                  0.009\n",
       "broadCast                  0.009\n",
       "specialFn                  0.007\n",
       "ilp32                      0.007\n",
       "sfp                        0.005\n",
       "lbdiv16                    0.005\n",
       "ilp256                     0.000\n",
       "divf                       0.000"
      ]
     },
     "execution_count": 16,
     "metadata": {},
     "output_type": "execute_result"
    }
   ],
   "source": [
    "importances = pd.DataFrame({'feature':Weighted_X.columns,'importance':np.round(randomForest.feature_importances_,3)})\n",
    "importances = importances.sort_values('importance',ascending=False).set_index('feature')\n",
    "\n",
    "importances.head(32)"
   ]
  },
  {
   "cell_type": "markdown",
   "metadata": {},
   "source": [
    "## Executing Recursive Feature Selection to choose important features <- Check"
   ]
  },
  {
   "cell_type": "markdown",
   "metadata": {},
   "source": [
    "## Nearest Neighbor Method"
   ]
  },
  {
   "cell_type": "code",
   "execution_count": 17,
   "metadata": {},
   "outputs": [
    {
     "name": "stdout",
     "output_type": "stream",
     "text": [
      "[0.67857143 0.81481481 0.74074074]\n"
     ]
    }
   ],
   "source": [
    "neighbor = KNeighborsClassifier(n_neighbors=11,weights='distance',algorithm='auto')\n",
    "scores = cross_val_score(neighbor, X_train, Y_train)\n",
    "print scores"
   ]
  },
  {
   "cell_type": "code",
   "execution_count": 18,
   "metadata": {},
   "outputs": [
    {
     "name": "stdout",
     "output_type": "stream",
     "text": [
      "['Y' 'Y' 'Y' 'Y' 'Y' 'Y' 'Y' 'Y' 'Y' 'Y']\n",
      "['Y' 'Y' 'N' 'Y' 'Y' 'Y' 'Y' 'N' 'N' 'N']\n"
     ]
    }
   ],
   "source": [
    "neighbor.fit(X_train,Y_train)\n",
    "prediction = neighbor.predict(X_test)\n",
    "\n",
    "print prediction\n",
    "print Y_test"
   ]
  },
  {
   "cell_type": "code",
   "execution_count": 19,
   "metadata": {},
   "outputs": [
    {
     "data": {
      "text/plain": [
       "0.6"
      ]
     },
     "execution_count": 19,
     "metadata": {},
     "output_type": "execute_result"
    }
   ],
   "source": [
    "accuracy_score(Y_test, prediction)"
   ]
  },
  {
   "cell_type": "markdown",
   "metadata": {},
   "source": [
    "## SVM Classifier "
   ]
  },
  {
   "cell_type": "code",
   "execution_count": 20,
   "metadata": {},
   "outputs": [
    {
     "name": "stdout",
     "output_type": "stream",
     "text": [
      "[0.75       0.81481481 0.81481481]\n"
     ]
    }
   ],
   "source": [
    "svmClassifier = SVC(kernel='rbf')\n",
    "scores = cross_val_score(svmClassifier, X_train, Y_train)\n",
    "print scores\n"
   ]
  },
  {
   "cell_type": "code",
   "execution_count": 21,
   "metadata": {},
   "outputs": [
    {
     "name": "stdout",
     "output_type": "stream",
     "text": [
      "['Y' 'Y' 'Y' 'Y' 'Y' 'Y' 'Y' 'Y' 'Y' 'Y']\n",
      "['Y' 'Y' 'N' 'Y' 'Y' 'Y' 'Y' 'N' 'N' 'N']\n"
     ]
    }
   ],
   "source": [
    "svmClassifier.fit(X_train,Y_train)\n",
    "prediction = svmClassifier.predict(X_test)\n",
    "\n",
    "print prediction\n",
    "print Y_test"
   ]
  },
  {
   "cell_type": "code",
   "execution_count": 22,
   "metadata": {},
   "outputs": [
    {
     "data": {
      "text/plain": [
       "0.6"
      ]
     },
     "execution_count": 22,
     "metadata": {},
     "output_type": "execute_result"
    }
   ],
   "source": [
    "accuracy_score(Y_test, prediction)"
   ]
  }
 ],
 "metadata": {
  "kernelspec": {
   "display_name": "Python 2",
   "language": "python",
   "name": "python2"
  },
  "language_info": {
   "codemirror_mode": {
    "name": "ipython",
    "version": 2
   },
   "file_extension": ".py",
   "mimetype": "text/x-python",
   "name": "python",
   "nbconvert_exporter": "python",
   "pygments_lexer": "ipython2",
   "version": "2.7.12"
  }
 },
 "nbformat": 4,
 "nbformat_minor": 2
}
